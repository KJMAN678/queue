{
 "cells": [
  {
   "cell_type": "markdown",
   "metadata": {},
   "source": [
    "元ネタ：Pythonでキューイング処理 - Qiita  \n",
    "https://qiita.com/okuhiiro/items/7e4813d8f44a40e23938"
   ]
  },
  {
   "cell_type": "code",
   "execution_count": 11,
   "metadata": {},
   "outputs": [],
   "source": [
    "# キュー処理を実行するためのクラス\n",
    "class Queue(object):\n",
    "\n",
    "    def __init__(self):\n",
    "        self.queue_list = []\n",
    "\n",
    "    # enqueue 待ち行列に入れる、キューに入れる\n",
    "    def enqueue(self, value):\n",
    "        self.queue_list.append(value)\n",
    "\n",
    "    # dequeue 待ち行列からはずす\n",
    "    def dequeue(self):\n",
    "        try:\n",
    "            # 先頭をとりだす\n",
    "            value = self.queue_list.pop(0)\n",
    "        except IndexError:\n",
    "            value = None\n",
    "\n",
    "        return value"
   ]
  },
  {
   "cell_type": "code",
   "execution_count": 12,
   "metadata": {},
   "outputs": [
    {
     "name": "stdout",
     "output_type": "stream",
     "text": [
      "a\n",
      "b\n",
      "c\n",
      "None\n"
     ]
    }
   ],
   "source": [
    "queue = Queue()\n",
    "\n",
    "# a、b、c をそれぞれエンキューする\n",
    "queue.enqueue(\"a\")\n",
    "queue.enqueue(\"b\")\n",
    "queue.enqueue(\"c\")\n",
    "\n",
    "# デキュー1回目。1番最初に入れた a が出力される\n",
    "print(queue.dequeue())\n",
    "\n",
    "# デキュー2回目。2番目に入れた b が出力される\n",
    "print(queue.dequeue())\n",
    "\n",
    "# デキュー3回目。3番目に入れた c が出力される\n",
    "print(queue.dequeue())\n",
    "\n",
    "# デキュー4回目。全てデキュー済みなため、何も出力されない(None)\n",
    "print(queue.dequeue())"
   ]
  }
 ],
 "metadata": {
  "kernelspec": {
   "display_name": "Python 3",
   "language": "python",
   "name": "python3"
  },
  "language_info": {
   "codemirror_mode": {
    "name": "ipython",
    "version": 3
   },
   "file_extension": ".py",
   "mimetype": "text/x-python",
   "name": "python",
   "nbconvert_exporter": "python",
   "pygments_lexer": "ipython3",
   "version": "3.8.2"
  }
 },
 "nbformat": 4,
 "nbformat_minor": 4
}
